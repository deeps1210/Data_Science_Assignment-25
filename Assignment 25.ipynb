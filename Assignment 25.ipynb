{
 "cells": [
  {
   "cell_type": "code",
   "execution_count": 1,
   "metadata": {
    "collapsed": true
   },
   "outputs": [],
   "source": [
    "import numpy as np\n",
    "import pandas as pd"
   ]
  },
  {
   "cell_type": "code",
   "execution_count": 5,
   "metadata": {
    "collapsed": true
   },
   "outputs": [],
   "source": [
    "columns = ['Age','Workclass','fnlgwt','Education','Education num','Marital Status',\n",
    "           'Occupation','Relationship','Race','Sex','Capital Gain','Capital Loss',\n",
    "           'Hours/Week','Native country','Income']\n",
    "train_set = pd.read_csv('http://archive.ics.uci.edu/ml/machine-learning-databases/adult/adult.data', header = None, names = columns)\n",
    "\n",
    "test_set = pd.read_csv('http://archive.ics.uci.edu/ml/machine-learning-databases/adult/adult.test', skiprows = 1, header = None, names = columns)"
   ]
  },
  {
   "cell_type": "code",
   "execution_count": 39,
   "metadata": {
    "collapsed": true
   },
   "outputs": [],
   "source": [
    "df = pd.concat([train_set, test_set], axis=0)\n",
    "dff=df\n",
    "k=df"
   ]
  },
  {
   "cell_type": "code",
   "execution_count": 40,
   "metadata": {},
   "outputs": [
    {
     "name": "stdout",
     "output_type": "stream",
     "text": [
      "<class 'pandas.core.frame.DataFrame'>\n",
      "Int64Index: 48842 entries, 0 to 16280\n",
      "Data columns (total 15 columns):\n",
      "Age               48842 non-null int64\n",
      "Workclass         48842 non-null object\n",
      "fnlgwt            48842 non-null int64\n",
      "Education         48842 non-null object\n",
      "Education num     48842 non-null int64\n",
      "Marital Status    48842 non-null object\n",
      "Occupation        48842 non-null object\n",
      "Relationship      48842 non-null object\n",
      "Race              48842 non-null object\n",
      "Sex               48842 non-null object\n",
      "Capital Gain      48842 non-null int64\n",
      "Capital Loss      48842 non-null int64\n",
      "Hours/Week        48842 non-null int64\n",
      "Native country    48842 non-null object\n",
      "Income            48842 non-null object\n",
      "dtypes: int64(6), object(9)\n",
      "memory usage: 6.0+ MB\n"
     ]
    }
   ],
   "source": [
    "k.info()"
   ]
  },
  {
   "cell_type": "code",
   "execution_count": 41,
   "metadata": {},
   "outputs": [],
   "source": [
    "for col in set(k.columns) - set(k.describe().columns):\n",
    "    k[col] = k[col].astype('category')"
   ]
  },
  {
   "cell_type": "code",
   "execution_count": 42,
   "metadata": {},
   "outputs": [
    {
     "name": "stdout",
     "output_type": "stream",
     "text": [
      "<class 'pandas.core.frame.DataFrame'>\n",
      "Int64Index: 48842 entries, 0 to 16280\n",
      "Data columns (total 15 columns):\n",
      "Age               48842 non-null int64\n",
      "Workclass         48842 non-null category\n",
      "fnlgwt            48842 non-null int64\n",
      "Education         48842 non-null category\n",
      "Education num     48842 non-null int64\n",
      "Marital Status    48842 non-null category\n",
      "Occupation        48842 non-null category\n",
      "Relationship      48842 non-null category\n",
      "Race              48842 non-null category\n",
      "Sex               48842 non-null category\n",
      "Capital Gain      48842 non-null int64\n",
      "Capital Loss      48842 non-null int64\n",
      "Hours/Week        48842 non-null int64\n",
      "Native country    48842 non-null category\n",
      "Income            48842 non-null category\n",
      "dtypes: category(9), int64(6)\n",
      "memory usage: 3.0 MB\n"
     ]
    }
   ],
   "source": [
    "k.info()"
   ]
  },
  {
   "cell_type": "code",
   "execution_count": 50,
   "metadata": {},
   "outputs": [],
   "source": [
    "k_data = k.drop('Income', axis = 1)\n",
    "k_label = k.Income\n",
    "\n",
    "\n",
    "k_cat_1hot = pd.get_dummies(k_data.select_dtypes(include = ['category']))\n",
    "k_non_cat = k_data.select_dtypes(exclude = ['category'])\n",
    "\n",
    "k_data_1hot = pd.concat([k_non_cat, k_cat_1hot], axis=1, join='inner')"
   ]
  },
  {
   "cell_type": "code",
   "execution_count": 57,
   "metadata": {},
   "outputs": [],
   "source": [
    "from sklearn.model_selection import train_test_split"
   ]
  },
  {
   "cell_type": "code",
   "execution_count": 59,
   "metadata": {
    "collapsed": true
   },
   "outputs": [],
   "source": [
    "x_train,x_test,y_train,y_test = train_test_split(k_data_1hot, k_label, test_size= 0.25)"
   ]
  },
  {
   "cell_type": "code",
   "execution_count": 69,
   "metadata": {},
   "outputs": [
    {
     "name": "stdout",
     "output_type": "stream",
     "text": [
      "training set auc: 0.579395626894\n",
      "test set auc: 0.579395626894\n",
      "{'algorithm': 'SAMME.R', 'base_estimator': None, 'learning_rate': 1.0, 'n_estimators': 100, 'random_state': None}\n",
      "The Accuracy  is 0.5793956268937843\n"
     ]
    }
   ],
   "source": [
    "from sklearn.ensemble import AdaBoostClassifier\n",
    "from sklearn.metrics import accuracy_score\n",
    "model = AdaBoostClassifier(n_estimators=100)\n",
    "final_m=model.fit(x_train, y_train)\n",
    "predictions = model.predict(x_test)\n",
    "print(\"training set auc:\",accuracy_score(y_test, predictions))\n",
    "predictions = model.predict(x_test)\n",
    "print(\"test set auc:\",accuracy_score(y_test, predictions))\n",
    "print(model.get_params())\n",
    "\n",
    "Adaboost = accuracy_score(y_test, predictions)\n",
    "print(\"The Accuracy  is {}\".format(Adaboost))"
   ]
  },
  {
   "cell_type": "code",
   "execution_count": null,
   "metadata": {
    "collapsed": true
   },
   "outputs": [],
   "source": []
  }
 ],
 "metadata": {
  "kernelspec": {
   "display_name": "Python 3",
   "language": "python",
   "name": "python3"
  },
  "language_info": {
   "codemirror_mode": {
    "name": "ipython",
    "version": 3
   },
   "file_extension": ".py",
   "mimetype": "text/x-python",
   "name": "python",
   "nbconvert_exporter": "python",
   "pygments_lexer": "ipython3",
   "version": "3.6.1"
  }
 },
 "nbformat": 4,
 "nbformat_minor": 2
}
